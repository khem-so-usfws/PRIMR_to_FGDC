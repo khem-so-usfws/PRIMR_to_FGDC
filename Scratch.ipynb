{
 "cells": [
  {
   "cell_type": "code",
   "execution_count": 1,
   "metadata": {},
   "outputs": [],
   "source": [
    "from pymdwizard.core.xml_utils import XMLRecord, XMLNode"
   ]
  },
  {
   "cell_type": "code",
   "execution_count": 39,
   "metadata": {},
   "outputs": [],
   "source": [
    "test = \"C:/Users/kso/Documents/WORKSPACE/Metadata/PRIMR_Metadata_Template_20220429.xml\"\n",
    "original_md = XMLRecord(test)"
   ]
  },
  {
   "cell_type": "code",
   "execution_count": 40,
   "metadata": {},
   "outputs": [
    {
     "data": {
      "text/plain": [
       "<citeinfo>\n",
       "  <origin>SurveyCoordinatorName from Refuges.DimSurvey</origin>\n",
       "  <origin>Other Contact Name [not available in IRIS warehouse]</origin>\n",
       "  <pubdate>\n",
       "  </pubdate>\n",
       "  <title>SurveyName from Refuges.DimSurvey</title>\n",
       "  <edition>PRIMRproduct_v1 [what is this?]</edition>\n",
       "  <geoform>\n",
       "  </geoform>\n",
       "  <pubinfo>\n",
       "    <pubplace>CityName, StateName from DimCity</pubplace>\n",
       "    <publish>U.S. Fish and Wildlife Service</publish>\n",
       "  </pubinfo>\n",
       "  <onlink>URL to ServCat Survey Products [not available in IRIS warehouse]</onlink>\n",
       "  <lworkcit>\n",
       "    <citeinfo>\n",
       "      <origin>SurveyCoordinatorName from Refuges.DimSurvey</origin>\n",
       "      <pubdate>\n",
       "      </pubdate>\n",
       "      <title>SurveyName from Refuges.DimSurvey</title>\n",
       "      <edition>PRIMRproduct_v1 [what is this?]</edition>\n",
       "      <geoform>\n",
       "      </geoform>\n",
       "      <pubinfo>\n",
       "        <pubplace>CityName, StateName from DimCity</pubplace>\n",
       "        <publish>U.S. Fish and Wildlife Service</publish>\n",
       "      </pubinfo>\n",
       "    </citeinfo>\n",
       "  </lworkcit>\n",
       "</citeinfo>"
      ]
     },
     "execution_count": 40,
     "metadata": {},
     "output_type": "execute_result"
    }
   ],
   "source": [
    "citeinfo = original_md.metadata.idinfo.citation.citeinfo\n",
    "citeinfo"
   ]
  },
  {
   "cell_type": "code",
   "execution_count": 41,
   "metadata": {},
   "outputs": [
    {
     "name": "stdout",
     "output_type": "stream",
     "text": [
      "<class 'list'>\n"
     ]
    },
    {
     "data": {
      "text/plain": [
       "<origin>Other Contact Name [not available in IRIS warehouse]</origin>"
      ]
     },
     "execution_count": 41,
     "metadata": {},
     "output_type": "execute_result"
    }
   ],
   "source": [
    "print(type(citeinfo.origin))\n",
    "citeinfo.origin[1]"
   ]
  },
  {
   "cell_type": "code",
   "execution_count": 42,
   "metadata": {},
   "outputs": [
    {
     "data": {
      "text/plain": [
       "<citeinfo>\n",
       "  <pubdate>\n",
       "  </pubdate>\n",
       "  <title>SurveyName from Refuges.DimSurvey</title>\n",
       "  <edition>PRIMRproduct_v1 [what is this?]</edition>\n",
       "  <geoform>\n",
       "  </geoform>\n",
       "  <pubinfo>\n",
       "    <pubplace>CityName, StateName from DimCity</pubplace>\n",
       "    <publish>U.S. Fish and Wildlife Service</publish>\n",
       "  </pubinfo>\n",
       "  <onlink>URL to ServCat Survey Products [not available in IRIS warehouse]</onlink>\n",
       "  <lworkcit>\n",
       "    <citeinfo>\n",
       "      <origin>SurveyCoordinatorName from Refuges.DimSurvey</origin>\n",
       "      <pubdate>\n",
       "      </pubdate>\n",
       "      <title>SurveyName from Refuges.DimSurvey</title>\n",
       "      <edition>PRIMRproduct_v1 [what is this?]</edition>\n",
       "      <geoform>\n",
       "      </geoform>\n",
       "      <pubinfo>\n",
       "        <pubplace>CityName, StateName from DimCity</pubplace>\n",
       "        <publish>U.S. Fish and Wildlife Service</publish>\n",
       "      </pubinfo>\n",
       "    </citeinfo>\n",
       "  </lworkcit>\n",
       "</citeinfo>"
      ]
     },
     "execution_count": 42,
     "metadata": {},
     "output_type": "execute_result"
    }
   ],
   "source": [
    "citeinfo.clear_children('origin')\n",
    "citeinfo"
   ]
  },
  {
   "cell_type": "code",
   "execution_count": null,
   "metadata": {},
   "outputs": [],
   "source": [
    "#pandas dataframe to iterate over values in column\n",
    "#concatentate open close tags with value\n",
    "#create node for each row\n",
    "#add child for each node"
   ]
  },
  {
   "cell_type": "code",
   "execution_count": 45,
   "metadata": {},
   "outputs": [],
   "source": [
    "origin_test = \"\"\"\n",
    "<origin>test2</origin>\n",
    "\"\"\"\n",
    "new_origin = XMLNode(origin_test)"
   ]
  },
  {
   "cell_type": "code",
   "execution_count": 46,
   "metadata": {},
   "outputs": [
    {
     "data": {
      "text/plain": [
       "<citeinfo>\n",
       "  <pubdate>\n",
       "  </pubdate>\n",
       "  <title>SurveyName from Refuges.DimSurvey</title>\n",
       "  <edition>PRIMRproduct_v1 [what is this?]</edition>\n",
       "  <geoform>\n",
       "  </geoform>\n",
       "  <pubinfo>\n",
       "    <pubplace>CityName, StateName from DimCity</pubplace>\n",
       "    <publish>U.S. Fish and Wildlife Service</publish>\n",
       "  </pubinfo>\n",
       "  <onlink>URL to ServCat Survey Products [not available in IRIS warehouse]</onlink>\n",
       "  <lworkcit>\n",
       "    <citeinfo>\n",
       "      <origin>SurveyCoordinatorName from Refuges.DimSurvey</origin>\n",
       "      <pubdate>\n",
       "      </pubdate>\n",
       "      <title>SurveyName from Refuges.DimSurvey</title>\n",
       "      <edition>PRIMRproduct_v1 [what is this?]</edition>\n",
       "      <geoform>\n",
       "      </geoform>\n",
       "      <pubinfo>\n",
       "        <pubplace>CityName, StateName from DimCity</pubplace>\n",
       "        <publish>U.S. Fish and Wildlife Service</publish>\n",
       "      </pubinfo>\n",
       "    </citeinfo>\n",
       "  </lworkcit>\n",
       "  <origin>test1</origin>\n",
       "  <origin>test2</origin>\n",
       "</citeinfo>"
      ]
     },
     "execution_count": 46,
     "metadata": {},
     "output_type": "execute_result"
    }
   ],
   "source": [
    "citeinfo.add_child(new_origin)\n",
    "citeinfo"
   ]
  }
 ],
 "metadata": {
  "kernelspec": {
   "display_name": "Python 3",
   "language": "python",
   "name": "python3"
  },
  "language_info": {
   "codemirror_mode": {
    "name": "ipython",
    "version": 3
   },
   "file_extension": ".py",
   "mimetype": "text/x-python",
   "name": "python",
   "nbconvert_exporter": "python",
   "pygments_lexer": "ipython3",
   "version": "3.6.5"
  }
 },
 "nbformat": 4,
 "nbformat_minor": 2
}
